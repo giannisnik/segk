{
 "cells": [
  {
   "cell_type": "code",
   "execution_count": 1,
   "metadata": {},
   "outputs": [],
   "source": [
    "import networkx as nx \n",
    "import numpy as np\n",
    "from sklearn.neighbors import KNeighborsClassifier\n",
    "from sklearn.neighbors import NearestNeighbors\n",
    "\n",
    "from segk import segk\n",
    "from utils import read_edgelist"
   ]
  },
  {
   "cell_type": "code",
   "execution_count": 2,
   "metadata": {},
   "outputs": [],
   "source": [
    "nodes, edgelist = read_edgelist('datasets/aan/release/2012/networks/author-collaboration-network.txt', delimiter=' ==> ')\n",
    "\n",
    "E_segk_sp = segk(nodes, edgelist, radius=2, dim=20, kernel='shortest_path')\n",
    "E_segk_wl = segk(nodes, edgelist, radius=2, dim=20, kernel='weisfeiler_lehman')\n",
    "\n",
    "acl_fellows = {\"Wu, Dekai\", \"Moore, Robert C.\", \"Mercer, Robert E.\", \"McKeown, Kathleen R.\", \"Matsumoto, Yuji\", \"Marcus, Mitchell P.\", \"Manning, Christopher D.\", \"Karttunen, Lauri\", \"Kaplan, Ronald M.\", \"Joshi, Aravind K.\", \"Johnson, Mark\", \"Hovy, Eduard\", \"Hirschberg, Julia\", \"Hajicov&aacute;, Eva\", \"Collins, Michael John\", \"Charniak, Eugene\", \"Calzolari, Nicoletta\", \"Webber, Bonnie Lynn\", \"Steedman, Mark\", \"Sproat, Richard W.\", \"Roth, Dan\", \"Ng, Hwee Tou\", \"Yarowsky, David\", \"Dagan, Ido\", \"Sidner, Candace L.\", \"Lin, Dekang\", \"Tsujii, Jun'ichi\", \"Palmer, Martha\", \"Mooney, Raymond J.\", \"Marcu, Daniel\", \"Knight, Kevin\", \"Daelemans, Walter\", \"Wiebe, Janyce\", \"Roukos, Salim\", \"Church, Kenneth Ward\", \"Cardie, Claire\", \"Weischedel, Ralph M.\", \"Wang, Haifeng\", \"Walker, Marilyn A.\", \"Dorr, Bonnie Jean\", \"Shieber, Stuart M.\", \"Pereira, Fernando\", \"Litman, Diane J.\", \"Lee, Lillian\", \"Grishman, Ralph\", \"Barzilay, Regina\"}"
   ]
  },
  {
   "cell_type": "code",
   "execution_count": 3,
   "metadata": {},
   "outputs": [
    {
     "name": "stdout",
     "output_type": "stream",
     "text": [
      "\n",
      "SEGK-SP\n",
      "Total acl fellows retrieved: 623\n",
      "Average acl fellows retrieved: 13.543478260869565\n",
      "Average precision @ 100: 0.13543478260869565\n",
      "\n",
      "SEGK-WL\n",
      "Total acl fellows retrieved: 394\n",
      "Average acl fellows retrieved: 8.565217391304348\n",
      "Average precision @ 100: 0.08565217391304347\n"
     ]
    }
   ],
   "source": [
    "name2idx = dict()\n",
    "idx2name = dict()\n",
    "acl_fellows_matched = set()\n",
    "for i,node in enumerate(nodes):\n",
    "    name2idx[node] = i\n",
    "    idx2name[i] = node\n",
    "    if node in acl_fellows:\n",
    "        acl_fellows_matched.add(node)\n",
    "\n",
    "algorithms = [\"SEGK-SP\", \"SEGK-WL\"]\n",
    "embeddings = [E_segk_sp, E_segk_wl]\n",
    "\n",
    "lim = 100\n",
    "\n",
    "for j, embedding_matrix in enumerate(embeddings):\n",
    "    nbrs = NearestNeighbors(n_neighbors=lim).fit(embedding_matrix)\n",
    "    distances, indices = nbrs.kneighbors(embedding_matrix)\n",
    "\n",
    "    retrieved = list()\n",
    "    precision = list()\n",
    "    for acl_fellow in acl_fellows_matched:\n",
    "        matches = 0\n",
    "        idx = indices[name2idx[acl_fellow],:]\n",
    "        for i in range(idx.size):\n",
    "            if idx2name[idx[i]] != acl_fellow and idx2name[idx[i]] in acl_fellows:\n",
    "                matches += 1\n",
    "        \n",
    "        retrieved.append(matches)\n",
    "        precision.append(matches/lim)\n",
    "    \n",
    "    print(\"\\n\"+algorithms[j])\n",
    "    print(\"Total acl fellows retrieved:\", np.sum(retrieved))\n",
    "    print(\"Average acl fellows retrieved:\", np.mean(retrieved))\n",
    "    print(\"Average precision @ \"+str(lim)+\": \"+str(np.mean(precision)))"
   ]
  }
 ],
 "metadata": {
  "kernelspec": {
   "display_name": "Python 3",
   "language": "python",
   "name": "python3"
  },
  "language_info": {
   "codemirror_mode": {
    "name": "ipython",
    "version": 3
   },
   "file_extension": ".py",
   "mimetype": "text/x-python",
   "name": "python",
   "nbconvert_exporter": "python",
   "pygments_lexer": "ipython3",
   "version": "3.7.3"
  }
 },
 "nbformat": 4,
 "nbformat_minor": 2
}
