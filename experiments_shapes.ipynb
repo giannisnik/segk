{
 "cells": [
  {
   "cell_type": "code",
   "execution_count": 1,
   "metadata": {},
   "outputs": [],
   "source": [
    "import numpy as np\n",
    "import zipfile\n",
    "\n",
    "from segk import segk\n",
    "from evaluation import evaluate_clustering, evaluate_classification\n",
    "\n",
    "import warnings\n",
    "warnings.filterwarnings('ignore')"
   ]
  },
  {
   "cell_type": "code",
   "execution_count": 2,
   "metadata": {},
   "outputs": [],
   "source": [
    "configuration = 'varied' # basic, varied, basic_perturbed or varied_perturbed\n",
    "\n",
    "edges = list()\n",
    "y = list()\n",
    "with zipfile.ZipFile('datasets/synthetic/'+configuration+'.zip') as z:\n",
    "    for i in range(20):\n",
    "        edges.append(list())\n",
    "        with z.open(configuration+'_'+str(i)+'.edgelist') as f:\n",
    "            for line in f:\n",
    "                t = line.decode(\"utf-8\")\n",
    "                t = t.split(' ')\n",
    "                edges[i].append((int(t[0]),int(t[1][:-1])))\n",
    "        \n",
    "        y.append(list())\n",
    "        with z.open(configuration+'_'+str(i)+'_class_labels.txt') as f:\n",
    "            for line in f:\n",
    "                t = line.decode(\"utf-8\") \n",
    "                y[i].append(int(t[:-1]))\n",
    "        y[i] = np.array(y[i])\n",
    "                \n",
    "nodes = list()\n",
    "for i in range(20):\n",
    "    nodes.append(list(range(len(y[i]))))"
   ]
  },
  {
   "cell_type": "code",
   "execution_count": 3,
   "metadata": {},
   "outputs": [
    {
     "name": "stdout",
     "output_type": "stream",
     "text": [
      "\n",
      "SEGK-SP\n",
      "Homogeneity: 0.9840582207584688\n",
      "Completeness: 0.9534026268575037\n",
      "Silhouette: 0.944734630872291\n",
      "Accuracy: 0.9982195652173914\n",
      "F1-score: 0.9961055626911669\n",
      "\n",
      "SEGK-WL\n",
      "Homogeneity: 0.978258501295483\n",
      "Completeness: 0.9501782427108607\n",
      "Silhouette: 0.9519399106686516\n",
      "Accuracy: 0.9962108695652174\n",
      "F1-score: 0.9923358062907912\n"
     ]
    }
   ],
   "source": [
    "algorithms = [\"SEGK-SP\", \"SEGK-WL\"]\n",
    "\n",
    "avg_homogeneity = list()\n",
    "avg_completeness = list()\n",
    "avg_silhouette = list()\n",
    "avg_accs = list()\n",
    "avg_f1 = list()\n",
    "\n",
    "for i in range(len(algorithms)):\n",
    "    avg_homogeneity.append(list())\n",
    "    avg_completeness.append(list())\n",
    "    avg_silhouette.append(list())\n",
    "    avg_accs.append(list())\n",
    "    avg_f1.append(list())\n",
    "\n",
    "for i in range(20):\n",
    "    E_segk_sp = segk(nodes[i], edges[i], radius=2, dim=10, kernel='shortest_path')\n",
    "    E_segk_wl = segk(nodes[i], edges[i], radius=2, dim=10, kernel='weisfeiler_lehman')\n",
    "       \n",
    "    \n",
    "    embeddings = [E_segk_sp, E_segk_wl]\n",
    "\n",
    "    homogeneity, completeness, silhouette = evaluate_clustering(embeddings, y[i])\n",
    "    accs, f1 = evaluate_classification(embeddings, y[i])\n",
    "\n",
    "    for j in range(len(algorithms)):\n",
    "        avg_homogeneity[j].append(homogeneity[j])\n",
    "        avg_completeness[j].append(completeness[j])\n",
    "        avg_silhouette[j].append(silhouette[j])\n",
    "        avg_accs[j].append(accs[j])\n",
    "        avg_f1[j].append(f1[j])\n",
    "                      \n",
    "for i in range(len(algorithms)):\n",
    "    print(\"\\n\"+algorithms[i])\n",
    "    print(\"Homogeneity:\", np.mean(avg_homogeneity[i]))\n",
    "    print(\"Completeness:\", np.mean(avg_completeness[i]))\n",
    "    print(\"Silhouette:\", np.mean(avg_silhouette[i]))\n",
    "    print(\"Accuracy:\", np.mean(avg_accs[i]))\n",
    "    print(\"F1-score:\", np.mean(avg_f1[i]))"
   ]
  }
 ],
 "metadata": {
  "kernelspec": {
   "display_name": "Python 3",
   "language": "python",
   "name": "python3"
  },
  "language_info": {
   "codemirror_mode": {
    "name": "ipython",
    "version": 3
   },
   "file_extension": ".py",
   "mimetype": "text/x-python",
   "name": "python",
   "nbconvert_exporter": "python",
   "pygments_lexer": "ipython3",
   "version": "3.7.3"
  }
 },
 "nbformat": 4,
 "nbformat_minor": 2
}
