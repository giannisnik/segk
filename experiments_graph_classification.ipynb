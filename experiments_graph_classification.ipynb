{
 "cells": [
  {
   "cell_type": "code",
   "execution_count": 1,
   "metadata": {},
   "outputs": [],
   "source": [
    "import networkx as nx \n",
    "import numpy as np\n",
    "\n",
    "from segk import segk\n",
    "from utils import load_graph_classification_data, pyramid_match_kernel\n",
    "from evaluation import evaluate_graph_classification"
   ]
  },
  {
   "cell_type": "code",
   "execution_count": 2,
   "metadata": {},
   "outputs": [],
   "source": [
    "dataset = \"MUTAG\"\n",
    "use_node_labels = False\n",
    "\n",
    "nodes, edgelist, graph_indicator, node_labels, class_labels = load_graph_classification_data(dataset, use_node_labels)\n",
    "\n",
    "n_graphs = max(graph_indicator.values())\n",
    "\n",
    "E_segk_sp = segk(nodes, edgelist, radius=2, dim=20, kernel='shortest_path')\n",
    "E_segk_wl = segk(nodes, edgelist, radius=2, dim=20, kernel='weisfeiler_lehman')\n",
    "\n",
    "E_segk_sp -= np.min(E_segk_sp)\n",
    "E_segk_wl -= np.min(E_segk_wl)\n",
    "\n",
    "E_segk_sp /= np.max(E_segk_sp)\n",
    "E_segk_wl /= np.max(E_segk_wl)\n",
    "\n",
    "embeddings_segk_sp = list()\n",
    "embeddings_segk_wl = list()\n",
    "for i in range(n_graphs):\n",
    "    embeddings_segk_sp.append(list())\n",
    "    embeddings_segk_wl.append(list())\n",
    "    \n",
    "for i,node in enumerate(nodes):\n",
    "    embeddings_segk_sp[graph_indicator[node]-1].append(E_segk_sp[i,:])\n",
    "    embeddings_segk_wl[graph_indicator[node]-1].append(E_segk_wl[i,:])\n",
    "    \n",
    "embeddings_segk_sp = [np.vstack(l) for l in embeddings_segk_sp]\n",
    "embeddings_segk_wl = [np.vstack(l) for l in embeddings_segk_wl]\n",
    "\n",
    "K_segk_sp = pyramid_match_kernel(embeddings_segk_sp)\n",
    "K_segk_wl = pyramid_match_kernel(embeddings_segk_wl)"
   ]
  },
  {
   "cell_type": "code",
   "execution_count": 3,
   "metadata": {},
   "outputs": [
    {
     "name": "stdout",
     "output_type": "stream",
     "text": [
      "Performance SEGK-SP\n",
      "-------------------\n",
      "\n",
      "Mean performance on val set in 10 iterations: 0.901176\n",
      "With standard deviation: 0.023500\n",
      "\n",
      "Mean performance on test set in 10 iterations: 0.852193\n",
      "With standard deviation: 0.023309\n",
      "\n",
      "Performance SEGK-WL\n",
      "-------------------\n",
      "\n",
      "Mean performance on val set in 10 iterations: 0.915882\n",
      "With standard deviation: 0.013682\n",
      "\n",
      "Mean performance on test set in 10 iterations: 0.855673\n",
      "With standard deviation: 0.014840\n"
     ]
    }
   ],
   "source": [
    "print(\"Performance SEGK-SP\")\n",
    "print(\"-------------------\")\n",
    "evaluate_graph_classification(K_segk_sp, class_labels)\n",
    "\n",
    "print()\n",
    "print(\"Performance SEGK-WL\")\n",
    "print(\"-------------------\")\n",
    "evaluate_graph_classification(K_segk_wl, class_labels)"
   ]
  }
 ],
 "metadata": {
  "kernelspec": {
   "display_name": "Python 3",
   "language": "python",
   "name": "python3"
  },
  "language_info": {
   "codemirror_mode": {
    "name": "ipython",
    "version": 3
   },
   "file_extension": ".py",
   "mimetype": "text/x-python",
   "name": "python",
   "nbconvert_exporter": "python",
   "pygments_lexer": "ipython3",
   "version": "3.7.3"
  }
 },
 "nbformat": 4,
 "nbformat_minor": 2
}
